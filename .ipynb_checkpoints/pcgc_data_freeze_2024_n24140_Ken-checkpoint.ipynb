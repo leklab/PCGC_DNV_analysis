{
 "cells": [
  {
   "cell_type": "code",
   "execution_count": null,
   "id": "5e95b2b9",
   "metadata": {},
   "outputs": [],
   "source": [
    "from hl_functions import *\n",
    "hl.init(log='./log.log', spark_conf={'spark.driver.memory': '100g', 'spark.executor.memory': '100g'}, master='local[4]')"
   ]
  },
  {
   "cell_type": "code",
   "execution_count": null,
   "id": "ae1ea8d8",
   "metadata": {},
   "outputs": [],
   "source": [
    "import csv\n",
    "import pandas as pd\n",
    "pd.set_option(\"display.max_columns\", None)\n",
    "pd.set_option(\"display.max_colwidth\", None)\n",
    "from pcgc_hail.hail_scripts.utils import *\n",
    "#from new_names import *\n",
    "import gnomad\n",
    "from gnomad_methods import *\n",
    "from gnomad_methods.gnomad.sample_qc import *\n",
    "\n",
    "def hl_to_txt(hl_df, name, delim='\\t'):\n",
    "    \"\"\"Convert matrix table to pandas dataframe and output to file\"\"\"\n",
    "    df = hl_df.to_pandas()\n",
    "    df.to_csv(name, sep=delim)\n",
    "\n",
    "import bokeh.io\n",
    "from bokeh.io import * \n",
    "from bokeh.layouts import *\n",
    "from bokeh.models import *\n",
    "from matplotlib import pyplot as plt\n",
    "hl.plot.output_notebook()"
   ]
  },
  {
   "cell_type": "code",
   "execution_count": null,
   "id": "9545b4cd",
   "metadata": {},
   "outputs": [],
   "source": [
    "hl_outdir = \"/gpfs/gibbs/pi/brueckner/Data_Freeze/output/\"\n",
    "\n",
    "######################################################################################################\n",
    "\n",
    "# This is where I read in Steve's VCF\n",
    "vcf = '/gpfs/gibbs/pi/brueckner/GRCh38/HMS_Callset/20240913-vcf-n24140/pcgc-exomes-n24140.hg38.unannot.vcf.gz'\n",
    "split_mt = hl_outdir + 'split_n24140.mt' \n",
    "vep_mt = hl_outdir + 'vep_n24140.mt' \n",
    "\n",
    "################################################################################\n",
    "# paths to annotation resources for hg38\n",
    "\n",
    "vep_json = '/gpfs/gibbs/pi/brueckner/VEP/vep85-loftee-ruddle-b38.json'\n",
    "ref_data = '/gpfs/gibbs/project/brueckner/kn396/resources/combined_reference_data_coding_grch38.ht'\n",
    "\n",
    "cadd_ht = '/gpfs/gibbs/pi/brueckner/datasets/CADD/CADD.v1.4.GRCh38.ht'\n",
    "dbnsfp_ht = '/gpfs/gibbs/pi/brueckner/datasets/dbNSFP/dbnsfp4.0a.GRCh38.ht' # 4.0 \n",
    "kg_genomes = '/gpfs/gibbs/pi/brueckner/datasets/thousand_genomes/1000_Genomes_autosomes.phase_3.GRCh38.mt'"
   ]
  },
  {
   "cell_type": "code",
   "execution_count": null,
   "id": "29695bab",
   "metadata": {},
   "outputs": [],
   "source": [
    "mt_output = split_mt \n",
    "\n",
    "################################################################################\n",
    "print('Reads in:' + vcf)\n",
    "print('Writes out:' + mt_output)\n",
    "\n",
    "# if using genome 37\n",
    "#mt = hl.import_vcf(vcf, force_bgz=True, reference_genome='GRCh37')\n",
    "\n",
    "# if using genome 38\n",
    "# for whether to use recode see https://hail.is/docs/0.2/methods/impex.html#hail.methods.import_vcf\n",
    "recode = {f\"{i}\":f\"chr{i}\" for i in (list(range(1, 23)) + ['X', 'Y'])}\n",
    "mt = hl.import_vcf(vcf, force_bgz=True, reference_genome='GRCh38', contig_recoding=recode, array_elements_required=False)\n",
    "\n",
    "# count before splitting \n",
    "print(str(mt.count()) + '\\n')\n",
    "\n",
    "# split multi-allelic sites  \n",
    "mt = generate_split_alleles(mt)\n",
    "\n",
    "# count after splitting \n",
    "print(str(mt.count()) + '\\n')\n",
    "\n",
    "intervals = \"/gpfs/gibbs/pi/brueckner/GRCh38/HMS_Callset/V2-u-IDT-u-MedExome_100m.hg38lift.s.m.bed\"\n",
    "exome_intervals = hl.import_locus_intervals(intervals, reference_genome='GRCh38')\n",
    "\n",
    "mt = mt.filter_rows(hl.is_defined(exome_intervals[mt.locus]), keep=True)\n",
    "\n",
    "#mt.write(mt_output, overwrite = True)"
   ]
  },
  {
   "cell_type": "code",
   "execution_count": null,
   "id": "240416db",
   "metadata": {},
   "outputs": [],
   "source": [
    "%%capture\n",
    "\n",
    "mt_output = vep_mt\n",
    "\n",
    "# Remove the NANS gene as a temp fix for VEP error - 10kb padded\n",
    "mt = hl.filter_intervals(mt, [hl.parse_locus_interval('chr9:98046732-chr9:98093077', reference_genome='GRCh38')], keep=False)\n",
    "\n",
    "mt_vep = hl.vep(mt, vep_json)\n",
    "mt_vep.write(vep_mt, overwrite = True)"
   ]
  },
  {
   "cell_type": "code",
   "execution_count": null,
   "id": "7556851e",
   "metadata": {
    "scrolled": true
   },
   "outputs": [],
   "source": [
    "mt_input = vep_mt\n",
    "\n",
    "################################\n",
    "mt = hl.read_matrix_table(mt_input)\n",
    "print('Reads in the following matrix table: \\n' + mt_input + '\\n')\n",
    "#print('count of the input dataframe:' + str(mt.count()) + '\\n')\n",
    "\n",
    "ref_data_ht = hl.read_table(ref_data)\n",
    "print('Reads in the following hail table for annotation: \\n' + ref_data + '\\n')\n",
    "\n",
    "################################\n",
    "# add annotations (from vep)\n",
    "################################\n",
    "\n",
    "# Sort VEP array annotations\n",
    "mt = mt.annotate_rows(\n",
    "    sortedTranscriptConsequences=get_expr_for_vep_sorted_transcript_consequences_array(vep_root=mt.vep)\n",
    ")\n",
    "\n",
    "mt = mt.annotate_rows(\n",
    "    gene_symbol=hl.if_else(mt.sortedTranscriptConsequences.size() > 0, mt.sortedTranscriptConsequences[0].gene_symbol, hl.missing(hl.tstr)), \n",
    "    major_consequence=hl.if_else(mt.sortedTranscriptConsequences.size() > 0, mt.sortedTranscriptConsequences[0].major_consequence, hl.missing(hl.tstr)), \n",
    "    hgvs=hl.if_else(mt.sortedTranscriptConsequences.size() > 0, mt.sortedTranscriptConsequences[0].hgvs, hl.missing(hl.tstr)), \n",
    "    category=hl.if_else(mt.sortedTranscriptConsequences.size() > 0, mt.sortedTranscriptConsequences[0].category, hl.missing(hl.tstr)), \n",
    "    canonical=hl.if_else(mt.sortedTranscriptConsequences.size() > 0, mt.sortedTranscriptConsequences[0].canonical, -1),\n",
    "    polyphen_pred=hl.if_else(mt.sortedTranscriptConsequences.size() > 0, mt.sortedTranscriptConsequences[0].polyphen_prediction, hl.missing(hl.tstr)),\n",
    "    sift_pred=hl.if_else(mt.sortedTranscriptConsequences.size() > 0, mt.sortedTranscriptConsequences[0].sift_prediction, hl.missing(hl.tstr)),\n",
    "    most_severe_consequence = mt.vep.most_severe_consequence,\n",
    "    variant_class = mt.vep.variant_class,\n",
    "    gene_id_array = mt.vep.transcript_consequences.gene_id,\n",
    "    gene_symbol_array = mt.vep.transcript_consequences.gene_symbol,\n",
    "#    gnomad_af =  hl.if_else(hl.is_defined(ref_data_ht[mt.row_key]),(hl.if_else(hl.is_defined(ref_data_ht[mt.row_key].gnomad_exomes.AF),ref_data_ht[mt.row_key].gnomad_exomes.AF, 0.0)), 0.0),\n",
    "    gnomad_af =  ref_data_ht[mt.row_key].gnomad_exomes.AF,\n",
    "    meta_svm =  ref_data_ht[mt.row_key].dbnsfp.MetaSVM_pred,\n",
    "    cadd =  ref_data_ht[mt.row_key].cadd.PHRED,\n",
    "    mpc = ref_data_ht[mt.row_key].mpc.MPC,\n",
    "    spliceAI_delta =  ref_data_ht[mt.row_key].splice_ai.delta_score,\n",
    "    spliceAI_consq =  ref_data_ht[mt.row_key].splice_ai.splice_consequence,\n",
    "    primateAI =  ref_data_ht[mt.row_key].primate_ai.score,\n",
    "    REVEL = ref_data_ht[mt.row_key].dbnsfp.REVEL_score\n",
    ")\n",
    "\n",
    "#mt.write(mt_output, overwrite = True)"
   ]
  },
  {
   "cell_type": "code",
   "execution_count": null,
   "id": "9a010028",
   "metadata": {},
   "outputs": [],
   "source": [
    "mt = hl.sample_qc(mt, name='sample_qc')"
   ]
  },
  {
   "cell_type": "code",
   "execution_count": null,
   "id": "c8b9cd5b",
   "metadata": {},
   "outputs": [],
   "source": [
    "mt = hl.variant_qc(mt, name='variant_qc')"
   ]
  },
  {
   "cell_type": "markdown",
   "id": "a56b0201",
   "metadata": {},
   "source": [
    "# Quality Control"
   ]
  },
  {
   "cell_type": "code",
   "execution_count": null,
   "id": "8437ec18",
   "metadata": {},
   "outputs": [],
   "source": [
    "imputed_sex = hl.impute_sex(mt.GT)"
   ]
  },
  {
   "cell_type": "code",
   "execution_count": null,
   "id": "ea4c9a2c",
   "metadata": {},
   "outputs": [],
   "source": [
    "imputed_sex.describe()"
   ]
  },
  {
   "cell_type": "code",
   "execution_count": null,
   "id": "3155596e",
   "metadata": {},
   "outputs": [],
   "source": [
    "imputed_sex.export('pcgc1_16_n24140_sex.tsv')"
   ]
  },
  {
   "cell_type": "code",
   "execution_count": null,
   "id": "5d97bddf",
   "metadata": {},
   "outputs": [],
   "source": [
    "ibd = hl.identity_by_descent(mt)\n",
    "ibd.describe()"
   ]
  },
  {
   "cell_type": "code",
   "execution_count": null,
   "id": "3ffa760a",
   "metadata": {},
   "outputs": [],
   "source": [
    "ibd = ibd.annotate(PI_HAT = ibd.ibd.PI_HAT)"
   ]
  },
  {
   "cell_type": "code",
   "execution_count": null,
   "id": "d7375333",
   "metadata": {},
   "outputs": [],
   "source": [
    "ibd = ibd.drop(ibd.ibd)"
   ]
  },
  {
   "cell_type": "code",
   "execution_count": null,
   "id": "aa1682a8",
   "metadata": {},
   "outputs": [],
   "source": [
    "#ibd = ibd.filter(ibd.ibd.PI_HAT>0.1)\n",
    "ibd.export('pcgc1_16_n24140_ibd.tsv')"
   ]
  },
  {
   "cell_type": "markdown",
   "id": "e09c8a13",
   "metadata": {},
   "source": [
    "# De Novo Calling"
   ]
  },
  {
   "cell_type": "code",
   "execution_count": null,
   "id": "041d2cd3",
   "metadata": {},
   "outputs": [],
   "source": [
    "ped = \"./pcgc-exomes-n24490.20240614.fam\"\n",
    "pedigree = hl.Pedigree.read(ped)\n",
    "\n",
    "de_novo_results = hl.de_novo(mt, pedigree, pop_frequency_prior=mt.gnomad_af)"
   ]
  },
  {
   "cell_type": "code",
   "execution_count": null,
   "id": "ddfeb917",
   "metadata": {},
   "outputs": [],
   "source": [
    "#de_novo_results.count()\n",
    "de_novo_results.write(\"./output/dnv_unfiltered_pcgc1_16_n24140.ht\", overwrite=True)"
   ]
  },
  {
   "cell_type": "code",
   "execution_count": null,
   "id": "4301403b",
   "metadata": {},
   "outputs": [],
   "source": [
    "dnv_results = hl.read_table(\"./output/dnv_unfiltered_pcgc1_16_n24140.ht\")   \n",
    "# Annotate with proband allele balance\n",
    "dnv_results=dnv_results.annotate(AB = (dnv_results.proband_entry.AD[1]/(dnv_results.proband_entry.AD[0]+dnv_results.proband_entry.AD[1])))"
   ]
  },
  {
   "cell_type": "code",
   "execution_count": null,
   "id": "64ce753f",
   "metadata": {},
   "outputs": [],
   "source": [
    "dnv_results = dnv_results.key_by(\"locus\", \"alleles\")\n",
    "dnv_results = dnv_results.annotate(\n",
    "    gene=mt.rows()[dnv_results.key].gene_symbol, \n",
    "    major_consequence=mt.rows()[dnv_results.key].major_consequence, \n",
    "    hgvs=mt.rows()[dnv_results.key].hgvs, \n",
    "    canonical=mt.rows()[dnv_results.key].canonical, \n",
    "    variant_class=mt.rows()[dnv_results.key].variant_class,\n",
    "    filters=mt.rows()[dnv_results.key].filters,\n",
    "    gnomad_AF=mt.rows()[dnv_results.key].gnomad_af,\n",
    "    meta_svm_pred = mt.rows()[dnv_results.key].meta_svm,\n",
    "    cohort_af = mt.rows()[dnv_results.key].variant_qc.AF\n",
    ")"
   ]
  },
  {
   "cell_type": "code",
   "execution_count": null,
   "id": "0fef7bb5",
   "metadata": {},
   "outputs": [],
   "source": [
    "# Make sure the hail table is annotated with VEP annotations\n",
    "# DP Filtering \n",
    "dnv_results = dnv_results.filter(dnv_results.proband_entry.DP >= 10, keep=True)\n",
    "dnv_results = dnv_results.filter(dnv_results.father_entry.DP >= 10, keep=True)       \n",
    "dnv_results = dnv_results.filter(dnv_results.mother_entry.DP >= 10, keep=True)\n",
    "#print(str(dnv_results.count())+\" de novo variants left after filtering for DP.\")\n",
    "\n",
    "#PASS Filtering\n",
    "dnv_results = dnv_results.filter(hl.len(dnv_results.filters) == 0)\n",
    "#print(str(dnv_results.count())+\" de novo variants left after filtering for PASS.\")\n",
    "\n",
    "# gnomAD AF filtering\n",
    "dnv_results = dnv_results.filter((dnv_results.gnomad_AF < 0.001) | hl.is_missing(dnv_results.gnomad_AF))\n",
    "#print(str(dnv_results.count())+\" de novo variants left after filtering for AF.\")"
   ]
  },
  {
   "cell_type": "code",
   "execution_count": null,
   "id": "c0ef95ef",
   "metadata": {},
   "outputs": [],
   "source": [
    "dnv_results_high = dnv_results.filter(dnv_results.confidence == \"HIGH\", keep=True) \n",
    "# Prior filtering\n",
    "dnv_results_high = dnv_results_high.filter(dnv_results_high.prior > 0.002, keep=False)"
   ]
  },
  {
   "cell_type": "code",
   "execution_count": null,
   "id": "19ccc658",
   "metadata": {},
   "outputs": [],
   "source": [
    "dnv_results_high = hl.read_table(\"./output/dnv_filtered_pcgc1_16_n24140_MED.ht\")"
   ]
  },
  {
   "cell_type": "code",
   "execution_count": null,
   "id": "daf8e7b2",
   "metadata": {},
   "outputs": [],
   "source": [
    "dnv_results_high=dnv_results_high.annotate(proband_dp = dnv_results_high.proband_entry.DP)\n",
    "dnv_results_high=dnv_results_high.annotate(proband_gq = dnv_results_high.proband_entry.GQ)\n",
    "dnv_results_high=dnv_results_high.annotate(proband_pl = dnv_results_high.proband_entry.PL)\n",
    "\n",
    "dnv_results_high=dnv_results_high.annotate(mother_dp = dnv_results_high.mother_entry.DP)\n",
    "dnv_results_high=dnv_results_high.annotate(mother_gq = dnv_results_high.mother_entry.GQ)\n",
    "dnv_results_high=dnv_results_high.annotate(mother_pl = dnv_results_high.mother_entry.PL)\n",
    "\n",
    "dnv_results_high=dnv_results_high.annotate(father_dp = dnv_results_high.father_entry.DP)\n",
    "dnv_results_high=dnv_results_high.annotate(father_gq = dnv_results_high.father_entry.GQ)\n",
    "dnv_results_high=dnv_results_high.annotate(father_pl = dnv_results_high.father_entry.PL)\n",
    "\n",
    "dnv_results_high=dnv_results_high.annotate(proband_n_alt = dnv_results_high.proband_entry.AD[1],\n",
    "                                           CADD = mt.rows()[dnv_results_high.key].cadd,\n",
    "                                           polyphen_pred = mt.rows()[dnv_results_high.key].polyphen_pred,\n",
    "                                           sift_pred = mt.rows()[dnv_results_high.key].sift_pred,\n",
    "                                           mpc = mt.rows()[dnv_results_high.key].mpc,\n",
    "                                           spliceAI_delta = mt.rows()[dnv_results_high.key].spliceAI_delta,\n",
    "                                           spliceAI_consq = mt.rows()[dnv_results_high.key].spliceAI_consq,\n",
    "                                           primateAI = mt.rows()[dnv_results_high.key].primateAI,\n",
    "                                           REVEL = mt.rows()[dnv_results_high.key].REVEL\n",
    ")\n",
    "\n",
    "logofunc = hl.read_table(\"/gpfs/gibbs/pi/brueckner/pcgc14_ken/output/logofunc.ht\")\n",
    "\n",
    "dnv_results_high = dnv_results_high.annotate(logofunc_pred = logofunc[dnv_results_high.key].predicted_class)\n",
    "dnv_results_high = dnv_results_high.annotate(LoGoFunc_neutral = logofunc[dnv_results_high.key].LoGoFunc_neutral)\n",
    "dnv_results_high = dnv_results_high.annotate(LoGoFunc_GOF = logofunc[dnv_results_high.key].LoGoFunc_GOF)\n",
    "dnv_results_high = dnv_results_high.annotate(LoGoFunc_LOF = logofunc[dnv_results_high.key].LoGoFunc_LOF)\n",
    "\n",
    "gmvp = hl.read_table(\"/gpfs/gibbs/pi/brueckner/pcgc14_ken/output/gmvp.ht\")\n",
    "\n",
    "dnv_results_high = dnv_results_high.annotate(gMVP = gmvp[dnv_results_high.key].gMVP)\n",
    "dnv_results_high = dnv_results_high.annotate(gMVP_rankscore = gmvp[dnv_results_high.key].gMVP_rankscore)\n",
    "\n",
    "mt_cv = hl.read_matrix_table(\"/gpfs/gibbs/pi/brueckner/pcgc14_ken/clinvar/clinvar38.mt/\")\n",
    "ht_cv = mt_cv.rows()\n",
    "\n",
    "dnv_results_high = dnv_results_high.annotate(clinvar = ht_cv[dnv_results_high.key].info.CLNSIG)\n",
    "                \n"
   ]
  },
  {
   "cell_type": "code",
   "execution_count": null,
   "id": "09ef4f7c",
   "metadata": {},
   "outputs": [],
   "source": [
    "# Annotate Low Complexity regions\n",
    "intervals = \"/gpfs/gibbs/pi/brueckner/Data_Freeze/LCR-hs38_v2.bed\"\n",
    "exome_intervals = hl.import_locus_intervals(intervals, reference_genome='GRCh38')\n",
    "\n",
    "dnv_results_high = dnv_results_high.annotate(lcr = hl.is_defined(exome_intervals[dnv_results_high.locus]))\n",
    "\n",
    "# Annotate segmental duplicate regions\n",
    "intervals = \"/gpfs/gibbs/pi/brueckner/Data_Freeze/GRCh38GenomicSuperDup_v2.bed\"\n",
    "exome_intervals = hl.import_locus_intervals(intervals, reference_genome='GRCh38')\n",
    "\n",
    "dnv_results_high = dnv_results_high.annotate(segdup = hl.is_defined(exome_intervals[dnv_results_high.locus]))\n",
    "\n",
    "# Annotate intersect\n",
    "intervals = \"/gpfs/gibbs/pi/brueckner/intervals/b38/hg38_intersect_idt_idtv2_medxome_v2_sorted_merged.bed\"\n",
    "exome_intervals = hl.import_locus_intervals(intervals, reference_genome='GRCh38')\n",
    "\n",
    "dnv_results_high = dnv_results_high.annotate(intersect = hl.is_defined(exome_intervals[dnv_results_high.locus]))"
   ]
  },
  {
   "cell_type": "code",
   "execution_count": null,
   "id": "963175d2",
   "metadata": {},
   "outputs": [],
   "source": [
    "dnv_results_high.row.export(\"pcgc_dnv_pcgc1_16__n24140_GRCh38.tsv\")"
   ]
  }
 ],
 "metadata": {
  "kernelspec": {
   "display_name": "Python 3 (ipykernel)",
   "language": "python",
   "name": "python3"
  },
  "language_info": {
   "codemirror_mode": {
    "name": "ipython",
    "version": 3
   },
   "file_extension": ".py",
   "mimetype": "text/x-python",
   "name": "python",
   "nbconvert_exporter": "python",
   "pygments_lexer": "ipython3",
   "version": "3.12.0"
  }
 },
 "nbformat": 4,
 "nbformat_minor": 5
}
